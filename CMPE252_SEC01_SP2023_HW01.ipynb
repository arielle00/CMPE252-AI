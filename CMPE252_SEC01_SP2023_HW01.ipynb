{
  "cells": [
    {
      "cell_type": "markdown",
      "metadata": {
        "id": "view-in-github",
        "colab_type": "text"
      },
      "source": [
        "<a href=\"https://colab.research.google.com/github/arielle00/CMPE252-AI/blob/main/CMPE252_SEC01_SP2023_HW01.ipynb\" target=\"_parent\"><img src=\"https://colab.research.google.com/assets/colab-badge.svg\" alt=\"Open In Colab\"/></a>"
      ]
    },
    {
      "cell_type": "markdown",
      "id": "739a8718",
      "metadata": {
        "id": "739a8718"
      },
      "source": [
        "### Home Assigment 1, CMPE 252, Section 01, Fall 2023, San Jose State University\n",
        "#### Informative Search using A* Algorithm and its comparison to uninformed search methods (BFS, Dijkstra)\n",
        "All the required utility functions are provided at the beginning of this notebook. There are 8 tasks\n",
        "after the utility functions, and a bonus task (10 additional points to HW1, if solved correclty).\n",
        "\n",
        "**This assignment is individual**.\n",
        "\n",
        "The deadline is Septemper 14, 2023, 11:59PM. The submission is in Canvas.\n",
        "\n",
        "**please submit two separate files (not in a ZIP file) this notebook and its corresponding PDF (File->Download as -> PDF)**"
      ]
    },
    {
      "cell_type": "markdown",
      "source": [],
      "metadata": {
        "id": "dSZya7QUlUPl"
      },
      "id": "dSZya7QUlUPl"
    },
    {
      "cell_type": "code",
      "source": [
        "import os\n",
        "\n",
        "print(os.getcwd())"
      ],
      "metadata": {
        "colab": {
          "base_uri": "https://localhost:8080/"
        },
        "id": "Cb3FWhrkLxub",
        "outputId": "b5765be7-c4ec-442f-cdf3-7e474c4fc4b4"
      },
      "id": "Cb3FWhrkLxub",
      "execution_count": 39,
      "outputs": [
        {
          "output_type": "stream",
          "name": "stdout",
          "text": [
            "/content\n"
          ]
        }
      ]
    },
    {
      "cell_type": "markdown",
      "id": "7cf076e2",
      "metadata": {
        "id": "7cf076e2"
      },
      "source": [
        "import the necessary libraries"
      ]
    },
    {
      "cell_type": "code",
      "execution_count": 40,
      "id": "bec3470b",
      "metadata": {
        "id": "bec3470b"
      },
      "outputs": [],
      "source": [
        "import matplotlib.pyplot as plt\n",
        "import numpy as np\n",
        "import sys\n",
        "import networkx as nx\n",
        "%matplotlib inline"
      ]
    },
    {
      "cell_type": "markdown",
      "id": "3264b930",
      "metadata": {
        "id": "3264b930"
      },
      "source": [
        "'build_maze' builds the maze from 'maze_file.txt'."
      ]
    },
    {
      "cell_type": "code",
      "execution_count": 52,
      "id": "cadedf65",
      "metadata": {
        "id": "cadedf65"
      },
      "outputs": [],
      "source": [
        "def build_maze(maze_file):\n",
        "    '''\n",
        "    para1: filename of the maze txt file\n",
        "    return mazes as a numpy array walls: 0 - no wall, 1 - wall in the maze\n",
        "    '''\n",
        "    a = open(maze_file, 'r')\n",
        "    m=[]\n",
        "    j = 0\n",
        "    for i in a.readlines():\n",
        "        # print(j)\n",
        "        # print(i.split(\" \"))\n",
        "        m.append(np.array(i.split(\" \"), dtype=\"int32\"))\n",
        "        j=j+1\n",
        "    out = np.array(m)\n",
        "    #print\n",
        "    return np.array(m)"
      ]
    },
    {
      "cell_type": "markdown",
      "id": "8d3426e4",
      "metadata": {
        "id": "8d3426e4"
      },
      "source": [
        "define START and GOAL states within the maze"
      ]
    },
    {
      "cell_type": "markdown",
      "id": "892d0006",
      "metadata": {
        "id": "892d0006"
      },
      "source": [
        "***Visualize the maze***:"
      ]
    },
    {
      "cell_type": "code",
      "execution_count": 53,
      "id": "8de356ce",
      "metadata": {
        "colab": {
          "base_uri": "https://localhost:8080/",
          "height": 448
        },
        "id": "8de356ce",
        "outputId": "c033209b-8280-4dd6-adae-05720024b7ea"
      },
      "outputs": [
        {
          "output_type": "execute_result",
          "data": {
            "text/plain": [
              "<matplotlib.image.AxesImage at 0x77fd01fcc130>"
            ]
          },
          "metadata": {},
          "execution_count": 53
        },
        {
          "output_type": "display_data",
          "data": {
            "text/plain": [
              "<Figure size 640x480 with 1 Axes>"
            ],
            "image/png": "[encoded data removed]"
          },
          "metadata": {}
        }
      ],
      "source": [
        "# (you are encouraged to look at the API of 'imshow')\n",
        "# plt.imshow(build_maze(\"maze_20x20.txt\"), cmap='Greens')\n",
        "# plt.imshow(build_maze(\"my_maze_25x25.txt\"), cmap='Greens')"
      ]
    },
    {
      "cell_type": "code",
      "execution_count": 9,
      "id": "644f41e2",
      "metadata": {
        "id": "644f41e2"
      },
      "outputs": [],
      "source": [
        "START=(1, 1)\n",
        "GOAL=(19,19)\n",
        "# Goal for 50X50 maze is (1,49)"
      ]
    },
    {
      "cell_type": "markdown",
      "id": "ad3324b6",
      "metadata": {
        "id": "ad3324b6"
      },
      "source": [
        "'Find_the_edges' builds the graph for the maze, assuming that the robot can move only in the four directions (Up, Down, Right, Left)."
      ]
    },
    {
      "cell_type": "code",
      "execution_count": 12,
      "id": "ab6be976",
      "metadata": {
        "id": "ab6be976"
      },
      "outputs": [],
      "source": [
        "def Find_the_edges(maze):\n",
        "    '''\n",
        "    para1: numpy array of the maze structure\n",
        "    return graph of the connected nodes\n",
        "    '''\n",
        "    graph={}\n",
        "    grid_size=len(maze)\n",
        "    for i in range(grid_size):\n",
        "        for j in range(grid_size):\n",
        "            if(maze[i][j]!=1):\n",
        "                adj=[]\n",
        "                eles=[]\n",
        "                if i - 1 >= 0:\n",
        "                    eles.append((i-1,j))\n",
        "                if i + 1 < grid_size:\n",
        "                    eles.append((i+1,j))\n",
        "                if j - 1 >=0:\n",
        "                    eles.append((i,j-1))\n",
        "                if j+1< grid_size:\n",
        "                    eles.append((i,j+1))\n",
        "                for ele in eles:\n",
        "                    if maze[ele[0]][ele[1]] == 0 or maze[ele[0]][ele[1]]=='3' :\n",
        "                        adj.append((ele[0],ele[1]))\n",
        "                graph[(i,j)]=adj\n",
        "    return graph"
      ]
    },
    {
      "cell_type": "markdown",
      "id": "05c35eb1",
      "metadata": {
        "id": "05c35eb1"
      },
      "source": [
        "***Breadth First Search (BFS)***"
      ]
    },
    {
      "cell_type": "code",
      "execution_count": 13,
      "id": "0ca55602",
      "metadata": {
        "colab": {
          "base_uri": "https://localhost:8080/",
          "height": 35
        },
        "id": "0ca55602",
        "outputId": "149dba4a-dc2b-4978-f15b-9c18313a8cb5"
      },
      "outputs": [
        {
          "output_type": "execute_result",
          "data": {
            "text/plain": [
              "'\\nvisited nodes - mark them as -3 in maze numpy array \\npath- mark them as -1 in maze numpy array\\nand Visualize the maze\\n'"
            ],
            "application/vnd.google.colaboratory.intrinsic+json": {
              "type": "string"
            }
          },
          "metadata": {},
          "execution_count": 13
        }
      ],
      "source": [
        "from collections import deque\n",
        "def BreadthFirst(graph, start, goal):\n",
        "    '''\n",
        "    para1: connected graph\n",
        "    para2: Starting node\n",
        "    para3: ending Node\n",
        "    return1: list of visited nodes\n",
        "    return2: nodes of shortest path\n",
        "    '''\n",
        "    queue = deque([([start], start)])\n",
        "    visited = set()\n",
        "\n",
        "    while queue:\n",
        "        path, current = queue.popleft()\n",
        "        #print(path, current)\n",
        "        if current == goal:\n",
        "            #print( path)\n",
        "            return visited, np.array(path)\n",
        "        if current in visited:\n",
        "            continue\n",
        "        #print(current)\n",
        "        visited.add(current)\n",
        "        for neighbour in graph[current]:\n",
        "            #print(graph[current])\n",
        "            p = list(path)\n",
        "            p.append(neighbour)\n",
        "            queue.append((p, neighbour))\n",
        "    return None\n",
        "'''\n",
        "visited nodes - mark them as -3 in maze numpy array\n",
        "path- mark them as -1 in maze numpy array\n",
        "and Visualize the maze\n",
        "'''"
      ]
    },
    {
      "cell_type": "code",
      "execution_count": 14,
      "id": "e4cbdd93",
      "metadata": {
        "id": "e4cbdd93"
      },
      "outputs": [],
      "source": [
        "#example for visualization of maze with visited nodes and shortest path\n",
        "# visited nodes are marked by '-3', the final path is marked by '-1'.\n",
        "maze1=build_maze(\"maze_20x20.txt\")\n",
        "graph=Find_the_edges(maze1)\n",
        "visited, path = BreadthFirst(graph, START, GOAL)\n",
        "for i in visited:\n",
        "    maze1[i[0],i[1]]=-3\n",
        "for i in path:\n",
        "    maze1[i[0],i[1]]=-1"
      ]
    },
    {
      "cell_type": "code",
      "execution_count": 16,
      "id": "29826417",
      "metadata": {
        "colab": {
          "base_uri": "https://localhost:8080/",
          "height": 448
        },
        "id": "29826417",
        "outputId": "7efeee60-df86-4e41-f679-3920e583fea4"
      },
      "outputs": [
        {
          "output_type": "execute_result",
          "data": {
            "text/plain": [
              "<matplotlib.image.AxesImage at 0x77fd18d1f1f0>"
            ]
          },
          "metadata": {},
          "execution_count": 16
        },
        {
          "output_type": "display_data",
          "data": {
            "text/plain": [
              "<Figure size 640x480 with 1 Axes>"
            ],
            "image/png": "[encoded data removed]"
          },
          "metadata": {}
        }
      ],
      "source": [
        "plt.imshow(maze1, cmap='Pastel2')"
      ]
    },
    {
      "cell_type": "markdown",
      "id": "a3126a2a",
      "metadata": {
        "id": "a3126a2a"
      },
      "source": [
        "- ***gray cells*** means the walls of the maze\n",
        "- ***dark green cells*** means the visited cells of the maze\n",
        "- ***light green cells*** means the shortest path of the maze\n",
        "- ***light brown*** means the unvisited cells of the maze"
      ]
    },
    {
      "cell_type": "markdown",
      "id": "0e0459cc",
      "metadata": {
        "id": "0e0459cc"
      },
      "source": [
        "***A**** ***-search***"
      ]
    },
    {
      "cell_type": "code",
      "execution_count": 110,
      "id": "35ea5317",
      "metadata": {
        "colab": {
          "base_uri": "https://localhost:8080/",
          "height": 35
        },
        "id": "35ea5317",
        "outputId": "771f7a7e-0df8-4a8e-93e3-c982110aa358"
      },
      "outputs": [
        {
          "output_type": "execute_result",
          "data": {
            "text/plain": [
              "'\\nvisited nodes - mark them as -3 in maze numpy array \\npath- mark them as -1 in maze numpy array\\nand Visualize the maze\\n'"
            ],
            "application/vnd.google.colaboratory.intrinsic+json": {
              "type": "string"
            }
          },
          "metadata": {},
          "execution_count": 110
        }
      ],
      "source": [
        "import heapq\n",
        "\n",
        "class PriorityQueue:\n",
        "    def __init__(self):\n",
        "        self.elements = []\n",
        "\n",
        "    def empty(self) -> bool:\n",
        "        return not self.elements\n",
        "\n",
        "    def put(self, item, priority):\n",
        "        heapq.heappush(self.elements, (priority, item))\n",
        "\n",
        "    def get(self):\n",
        "        return heapq.heappop(self.elements)[1]\n",
        "\n",
        "def astar_path(graph, start, goal, w, h_fn):\n",
        "    '''\n",
        "    para1: connected graph\n",
        "    para2: Starting node\n",
        "    para3: ending Node\n",
        "    return1: list of visited nodes\n",
        "    return2: nodes of shortest path\n",
        "    '''\n",
        "    frontier = PriorityQueue()\n",
        "    frontier.put(start, 0)\n",
        "    came_from= {}\n",
        "    cost_so_far= {}\n",
        "    came_from[start] = None\n",
        "    cost_so_far[start] = 0\n",
        "    while not frontier.empty():\n",
        "        current = frontier.get()\n",
        "        if current == goal:\n",
        "            break\n",
        "        #print(graph[current])\n",
        "        for next in (graph[current]):\n",
        "            graph[current]=-1\n",
        "            new_cost = cost_so_far[current] + 1\n",
        "            if next not in cost_so_far or new_cost < cost_so_far[next]:\n",
        "                cost_so_far[next] = new_cost\n",
        "                ######\n",
        "                #you can make the interface of 'astar_path' more robust by providing a heuristic as a parameter\n",
        "                ###\n",
        "                priority = new_cost + w*h_fn(next, goal)\n",
        "                frontier.put(next, priority)\n",
        "                came_from[next] = current\n",
        "    current= goal\n",
        "    path = []\n",
        "    while current != start:\n",
        "        path.append(current)\n",
        "        #print(came_from[current])\n",
        "        current = came_from[current]\n",
        "    path.append(start)\n",
        "    path.reverse()\n",
        "    return came_from, path, cost_so_far\n",
        "'''\n",
        "visited nodes - mark them as -3 in maze numpy array\n",
        "path- mark them as -1 in maze numpy array\n",
        "and Visualize the maze\n",
        "'''"
      ]
    },
    {
      "cell_type": "markdown",
      "id": "199af26d",
      "metadata": {
        "id": "199af26d"
      },
      "source": [
        "***Dijkstra Algorithm***"
      ]
    },
    {
      "cell_type": "code",
      "execution_count": 72,
      "id": "061a3df1",
      "metadata": {
        "colab": {
          "base_uri": "https://localhost:8080/",
          "height": 35
        },
        "id": "061a3df1",
        "outputId": "55553043-58be-4706-b507-722c19ff4845"
      },
      "outputs": [
        {
          "output_type": "execute_result",
          "data": {
            "text/plain": [
              "'\\nvisited nodes - mark them as -3 in maze numpy array \\npath- mark them as -1 in maze numpy array\\nand Visualize the maze\\n'"
            ],
            "application/vnd.google.colaboratory.intrinsic+json": {
              "type": "string"
            }
          },
          "metadata": {},
          "execution_count": 72
        }
      ],
      "source": [
        "\n",
        "def dijkstra_algorithm(graph, start_node, GOAL):\n",
        "    '''\n",
        "    para1: connected graph\n",
        "    para2: Starting node\n",
        "    para3: ending Node\n",
        "    return1: list of visited nodes\n",
        "    return2: nodes of shortest path\n",
        "    '''\n",
        "    unvisited_nodes = list(graph.keys())\n",
        "\n",
        "    # We'll use this dict to save the cost of visiting each node and update it as we move along the graph\n",
        "    shortest_path = {}\n",
        "\n",
        "    # We'll use this dict to save the shortest known path to a node found so far\n",
        "    previous_nodes = {}\n",
        "\n",
        "    # We'll use max_value to initialize the \"infinity\" value of the unvisited nodes\n",
        "    max_value = sys.maxsize\n",
        "    for node in unvisited_nodes:\n",
        "        shortest_path[node] = max_value\n",
        "    # However, we initialize the starting node's value with 0\n",
        "    shortest_path[start_node] = 0\n",
        "\n",
        "    # The algorithm executes until we visit all nodes\n",
        "    while GOAL in unvisited_nodes:\n",
        "        # The code block below finds the node with the lowest score\n",
        "        current_min_node = None\n",
        "        for node in unvisited_nodes: # Iterate over the nodes\n",
        "            if current_min_node == None:\n",
        "                current_min_node = node\n",
        "            elif shortest_path[node] < shortest_path[current_min_node]:\n",
        "                current_min_node = node\n",
        "\n",
        "        # The code block below retrieves the current node's neighbors and updates their distances\n",
        "        neighbors = graph[current_min_node]\n",
        "        for neighbor in neighbors:\n",
        "            tentative_value = shortest_path[current_min_node] + 1\n",
        "            if tentative_value < shortest_path[neighbor]:\n",
        "                shortest_path[neighbor] = tentative_value\n",
        "                # We also update the best path to the current node\n",
        "                previous_nodes[neighbor] = current_min_node\n",
        "\n",
        "        # After visiting its neighbors, we mark the node as \"visited\"\n",
        "        unvisited_nodes.remove(current_min_node)\n",
        "\n",
        "    current= GOAL\n",
        "    path = []\n",
        "    while current != START:\n",
        "        path.append(current)\n",
        "        #print(previous_nodes[current])\n",
        "        current = previous_nodes[current]\n",
        "    path.append(START)\n",
        "    path.reverse()\n",
        "    return previous_nodes, path\n",
        "'''\n",
        "visited nodes - mark them as -3 in maze numpy array\n",
        "path- mark them as -1 in maze numpy array\n",
        "and Visualize the maze\n",
        "'''\n"
      ]
    },
    {
      "cell_type": "markdown",
      "id": "9af32e10",
      "metadata": {
        "id": "9af32e10"
      },
      "source": [
        "### Task - 1"
      ]
    },
    {
      "cell_type": "markdown",
      "id": "67e53628",
      "metadata": {
        "id": "67e53628"
      },
      "source": [
        "Build your maze with dimentions 25 x 25 and a similar complexity (number of obstacles/fences)\n",
        "as in the maze provided in 'maze_20x20.txt'. Check that there exists a path between START at the\n",
        "(1, 1) and the GOAL at (25, 25) in your maze. Store your maze to 'my_maze_25x25.txt'. Visualize your maze.\n",
        "Use your maze in the below tasks."
      ]
    },
    {
      "cell_type": "markdown",
      "source": [],
      "metadata": {
        "id": "CxQXZ3qJlE52"
      },
      "id": "CxQXZ3qJlE52"
    },
    {
      "cell_type": "markdown",
      "id": "f071216e",
      "metadata": {
        "id": "f071216e"
      },
      "source": [
        "### Task - 2"
      ]
    },
    {
      "cell_type": "markdown",
      "id": "c6ab3866",
      "metadata": {
        "id": "c6ab3866"
      },
      "source": [
        "A* algorithm requires a heuristic function. You will try two following heuristics:\n",
        "- Euclidean distance between the cell coordinates\n",
        "- Manhattan distance between the cell coordinates"
      ]
    },
    {
      "cell_type": "code",
      "execution_count": 73,
      "id": "d179e722",
      "metadata": {
        "id": "d179e722"
      },
      "outputs": [],
      "source": [
        "def Euclidean_distance(node1, node2):\n",
        "    '''\n",
        "    para1: is a tuple which contains the coorinates of the source node\n",
        "    para2: is a tuple which contains the coorinates of the source node\n",
        "    return: Euclidean distance between the 2 nodes\n",
        "    '''\n",
        "    return ((node1[0] - GOAL[0])**2 + (node1[1]-GOAL[1])**2)**0.5\n",
        "    pass\n",
        "\n"
      ]
    },
    {
      "cell_type": "code",
      "execution_count": 74,
      "id": "2646bbba",
      "metadata": {
        "id": "2646bbba"
      },
      "outputs": [],
      "source": [
        "# implement the Manhattan distance between the 2 nodes, and update the code for A* accordingly\n",
        "def Manhattan_distance(node1, node2):\n",
        "    '''\n",
        "    para1: is a tuple which contains the coorinates of the source node\n",
        "    para2: is a tuple which contains the coorinates of the source node\n",
        "    return: Manhattan distance between the 2 nodes\n",
        "    '''\n",
        "    return (abs(node1[0]-node2[0]) + abs(node1[1]-node2[1]))\n",
        "#     refer to https://xlinux.nist.gov/dads/HTML/manhattanDistance.html\n",
        "    pass"
      ]
    },
    {
      "cell_type": "markdown",
      "id": "f05cf490",
      "metadata": {
        "id": "f05cf490"
      },
      "source": [
        "Run A* with these two heuristic functions for W=1 and find the shortest path and its length in the maze. You can update the interface of astar_path to accept W and a heuristic function"
      ]
    },
    {
      "cell_type": "code",
      "execution_count": 128,
      "id": "5c15d6c2",
      "metadata": {
        "colab": {
          "base_uri": "https://localhost:8080/",
          "height": 466
        },
        "id": "5c15d6c2",
        "outputId": "f3ddd8eb-cf25-40e9-82fc-ac2125231afa"
      },
      "outputs": [
        {
          "output_type": "stream",
          "name": "stdout",
          "text": [
            "Euclidean distance visited nodes amount: 250\n",
            "Shortest path length: 46\n"
          ]
        },
        {
          "output_type": "display_data",
          "data": {
            "text/plain": [
              "<Figure size 640x480 with 1 Axes>"
            ],
            "image/png": "[encoded data removed]"
          },
          "metadata": {}
        }
      ],
      "source": [
        "maze2 = build_maze(\"my_maze_25x25.txt\")\n",
        "\n",
        "# Euclidean\n",
        "def Euclidean_search(w):\n",
        "  # w = 1\n",
        "  START=(1, 1)\n",
        "  GOAL=(24,24)\n",
        "\n",
        "  h_fn = Euclidean_distance\n",
        "  graph = Find_the_edges(maze2)\n",
        "  came_from, path, cost_so_far = astar_path(graph, START, GOAL, w, h_fn)\n",
        "\n",
        "  print(\"Euclidean distance visited nodes amount:\",len(came_from))\n",
        "  #print(\"Shortest path:\",path)\n",
        "  print(\"Shortest path length:\",cost_so_far[list(cost_so_far.keys())[-1]])\n",
        "\n",
        "  for i in came_from:\n",
        "    maze2[i[0],i[1]]=-3\n",
        "  for i in path:\n",
        "    maze2[i[0],i[1]]=-1\n",
        "  plt.imshow(maze2, cmap='Pastel2')\n",
        "\n",
        "Euclidean_search(1)"
      ]
    },
    {
      "cell_type": "code",
      "source": [],
      "metadata": {
        "id": "_1pgDnewpRxK"
      },
      "id": "_1pgDnewpRxK",
      "execution_count": null,
      "outputs": []
    },
    {
      "cell_type": "code",
      "source": [
        "# Manhattan\n",
        "def Manhattan_search(w):\n",
        "  # w = 1\n",
        "  START=(1, 1)\n",
        "  GOAL=(24,24)\n",
        "\n",
        "  h_fn = Manhattan_distance\n",
        "  graph = Find_the_edges(maze2)\n",
        "  came_from, path, cost_so_far = astar_path(graph, START, GOAL, w, h_fn)\n",
        "\n",
        "  print(\"Manhattan distance visited nodes amount:\",len(came_from))\n",
        "  #print(\"Shortest path:\",path)\n",
        "  print(\"Shortest path length:\",cost_so_far[list(cost_so_far.keys())[-1]])\n",
        "\n",
        "  for i in came_from:\n",
        "    maze2[i[0],i[1]]=-3\n",
        "  for i in path:\n",
        "    maze2[i[0],i[1]]=-1\n",
        "  plt.imshow(maze2, cmap='Pastel2')\n",
        "\n",
        "Manhattan_search(1)"
      ],
      "metadata": {
        "colab": {
          "base_uri": "https://localhost:8080/",
          "height": 363
        },
        "id": "ifbA9CaXV3f_",
        "outputId": "08bae135-b703-4cca-87d0-fa3116c19f51"
      },
      "id": "ifbA9CaXV3f_",
      "execution_count": 130,
      "outputs": [
        {
          "output_type": "error",
          "ename": "KeyError",
          "evalue": "ignored",
          "traceback": [
            "\u001b[0;31m---------------------------------------------------------------------------\u001b[0m",
            "\u001b[0;31mKeyError\u001b[0m                                  Traceback (most recent call last)",
            "\u001b[0;32m<ipython-input-130-b286658e4ac4>\u001b[0m in \u001b[0;36m<cell line: 21>\u001b[0;34m()\u001b[0m\n\u001b[1;32m     19\u001b[0m   \u001b[0mplt\u001b[0m\u001b[0;34m.\u001b[0m\u001b[0mimshow\u001b[0m\u001b[0;34m(\u001b[0m\u001b[0mmaze2\u001b[0m\u001b[0;34m,\u001b[0m \u001b[0mcmap\u001b[0m\u001b[0;34m=\u001b[0m\u001b[0;34m'Pastel2'\u001b[0m\u001b[0;34m)\u001b[0m\u001b[0;34m\u001b[0m\u001b[0;34m\u001b[0m\u001b[0m\n\u001b[1;32m     20\u001b[0m \u001b[0;34m\u001b[0m\u001b[0m\n\u001b[0;32m---> 21\u001b[0;31m \u001b[0mManhattan_search\u001b[0m\u001b[0;34m(\u001b[0m\u001b[0;36m1\u001b[0m\u001b[0;34m)\u001b[0m\u001b[0;34m\u001b[0m\u001b[0;34m\u001b[0m\u001b[0m\n\u001b[0m",
            "\u001b[0;32m<ipython-input-130-b286658e4ac4>\u001b[0m in \u001b[0;36mManhattan_search\u001b[0;34m(w)\u001b[0m\n\u001b[1;32m      7\u001b[0m   \u001b[0mh_fn\u001b[0m \u001b[0;34m=\u001b[0m \u001b[0mManhattan_distance\u001b[0m\u001b[0;34m\u001b[0m\u001b[0;34m\u001b[0m\u001b[0m\n\u001b[1;32m      8\u001b[0m   \u001b[0mgraph\u001b[0m \u001b[0;34m=\u001b[0m \u001b[0mFind_the_edges\u001b[0m\u001b[0;34m(\u001b[0m\u001b[0mmaze2\u001b[0m\u001b[0;34m)\u001b[0m\u001b[0;34m\u001b[0m\u001b[0;34m\u001b[0m\u001b[0m\n\u001b[0;32m----> 9\u001b[0;31m   \u001b[0mcame_from\u001b[0m\u001b[0;34m,\u001b[0m \u001b[0mpath\u001b[0m\u001b[0;34m,\u001b[0m \u001b[0mcost_so_far\u001b[0m \u001b[0;34m=\u001b[0m \u001b[0mastar_path\u001b[0m\u001b[0;34m(\u001b[0m\u001b[0mgraph\u001b[0m\u001b[0;34m,\u001b[0m \u001b[0mSTART\u001b[0m\u001b[0;34m,\u001b[0m \u001b[0mGOAL\u001b[0m\u001b[0;34m,\u001b[0m \u001b[0mw\u001b[0m\u001b[0;34m,\u001b[0m \u001b[0mh_fn\u001b[0m\u001b[0;34m)\u001b[0m\u001b[0;34m\u001b[0m\u001b[0;34m\u001b[0m\u001b[0m\n\u001b[0m\u001b[1;32m     10\u001b[0m \u001b[0;34m\u001b[0m\u001b[0m\n\u001b[1;32m     11\u001b[0m   \u001b[0mprint\u001b[0m\u001b[0;34m(\u001b[0m\u001b[0;34m\"Manhattan distance visited nodes amount:\"\u001b[0m\u001b[0;34m,\u001b[0m\u001b[0mlen\u001b[0m\u001b[0;34m(\u001b[0m\u001b[0mcame_from\u001b[0m\u001b[0;34m)\u001b[0m\u001b[0;34m)\u001b[0m\u001b[0;34m\u001b[0m\u001b[0;34m\u001b[0m\u001b[0m\n",
            "\u001b[0;32m<ipython-input-110-52a2f8042aad>\u001b[0m in \u001b[0;36mastar_path\u001b[0;34m(graph, start, goal, w, h_fn)\u001b[0m\n\u001b[1;32m     49\u001b[0m         \u001b[0mpath\u001b[0m\u001b[0;34m.\u001b[0m\u001b[0mappend\u001b[0m\u001b[0;34m(\u001b[0m\u001b[0mcurrent\u001b[0m\u001b[0;34m)\u001b[0m\u001b[0;34m\u001b[0m\u001b[0;34m\u001b[0m\u001b[0m\n\u001b[1;32m     50\u001b[0m         \u001b[0;31m#print(came_from[current])\u001b[0m\u001b[0;34m\u001b[0m\u001b[0;34m\u001b[0m\u001b[0m\n\u001b[0;32m---> 51\u001b[0;31m         \u001b[0mcurrent\u001b[0m \u001b[0;34m=\u001b[0m \u001b[0mcame_from\u001b[0m\u001b[0;34m[\u001b[0m\u001b[0mcurrent\u001b[0m\u001b[0;34m]\u001b[0m\u001b[0;34m\u001b[0m\u001b[0;34m\u001b[0m\u001b[0m\n\u001b[0m\u001b[1;32m     52\u001b[0m     \u001b[0mpath\u001b[0m\u001b[0;34m.\u001b[0m\u001b[0mappend\u001b[0m\u001b[0;34m(\u001b[0m\u001b[0mstart\u001b[0m\u001b[0;34m)\u001b[0m\u001b[0;34m\u001b[0m\u001b[0;34m\u001b[0m\u001b[0m\n\u001b[1;32m     53\u001b[0m     \u001b[0mpath\u001b[0m\u001b[0;34m.\u001b[0m\u001b[0mreverse\u001b[0m\u001b[0;34m(\u001b[0m\u001b[0;34m)\u001b[0m\u001b[0;34m\u001b[0m\u001b[0;34m\u001b[0m\u001b[0m\n",
            "\u001b[0;31mKeyError\u001b[0m: (24, 24)"
          ]
        }
      ]
    },
    {
      "cell_type": "markdown",
      "id": "14328cdd",
      "metadata": {
        "id": "14328cdd"
      },
      "source": [
        "### Task - 3\n"
      ]
    },
    {
      "cell_type": "markdown",
      "id": "dc66340b",
      "metadata": {
        "id": "dc66340b"
      },
      "source": [
        "In this task you are asked to solve the maze with 4 different weights, W, in A* for each of the heurstic function mentioned above. Visualize the solution for each W and each heurstic on a separate plot in the same format as in the examle above (see cell 17). ***Chose a broad set of values for W to see the difference.***"
      ]
    },
    {
      "cell_type": "code",
      "execution_count": 119,
      "id": "b5bd20ce",
      "metadata": {
        "colab": {
          "base_uri": "https://localhost:8080/"
        },
        "id": "b5bd20ce",
        "outputId": "9622b945-0881-4911-9853-4f26ebce887f"
      },
      "outputs": [
        {
          "output_type": "stream",
          "name": "stdout",
          "text": [
            "-----------------Euclidean-----------------\n",
            "Euclidean distance visited nodes amount: 305\n",
            "Shortest path length: 43\n",
            "Euclidean distance visited nodes amount: 99\n",
            "Shortest path length: 46\n",
            "Euclidean distance visited nodes amount: 80\n",
            "Shortest path length: 56\n",
            "Euclidean distance visited nodes amount: 80\n",
            "Shortest path length: 56\n",
            "-----------------Manhattan-----------------\n",
            "Manhattan distance visited nodes amount: 305\n",
            "Shortest path length: 43\n",
            "Manhattan distance visited nodes amount: 90\n",
            "Shortest path length: 58\n",
            "Manhattan distance visited nodes amount: 90\n",
            "Shortest path length: 58\n",
            "Manhattan distance visited nodes amount: 90\n",
            "Shortest path length: 58\n"
          ]
        }
      ],
      "source": [
        "print(\"-----------------Euclidean-----------------\")\n",
        "Euclidean_search(0.2)\n",
        "Euclidean_search(2)\n",
        "Euclidean_search(5)\n",
        "Euclidean_search(10)\n",
        "print(\"-----------------Manhattan-----------------\")\n",
        "Manhattan_search(0.2)\n",
        "Manhattan_search(2)\n",
        "Manhattan_search(5)\n",
        "Manhattan_search(10)"
      ]
    },
    {
      "cell_type": "markdown",
      "id": "693cb0dd",
      "metadata": {
        "id": "693cb0dd"
      },
      "source": [
        "Explain what changes you observe for the different weights and why it occurs."
      ]
    },
    {
      "cell_type": "code",
      "execution_count": null,
      "id": "347837af",
      "metadata": {
        "id": "347837af"
      },
      "outputs": [],
      "source": []
    },
    {
      "cell_type": "markdown",
      "id": "6e803b28",
      "metadata": {
        "id": "6e803b28"
      },
      "source": [
        "### Task - 4"
      ]
    },
    {
      "cell_type": "markdown",
      "id": "c2c7688c",
      "metadata": {
        "id": "c2c7688c"
      },
      "source": [
        "\n",
        "Plot on plt.subplot(121) a) time taken VS Weights\n",
        "\n",
        "Plot on plt.subplot(122) b) search space (expanded nodes) VS Weights\n",
        "\n",
        "-- add titles, axis labels, and legends."
      ]
    },
    {
      "cell_type": "code",
      "execution_count": null,
      "id": "ffc53e9f",
      "metadata": {
        "id": "ffc53e9f"
      },
      "outputs": [],
      "source": []
    },
    {
      "cell_type": "markdown",
      "id": "31bde091",
      "metadata": {
        "id": "31bde091"
      },
      "source": [
        "### Task - 5"
      ]
    },
    {
      "cell_type": "markdown",
      "id": "6447d4e4",
      "metadata": {
        "id": "6447d4e4"
      },
      "source": [
        "Solve the maze with the Dijkstra algorithm, and visualize the solution in the maze. What is the length of the shortest path?"
      ]
    },
    {
      "cell_type": "code",
      "execution_count": null,
      "id": "4b39ecea",
      "metadata": {
        "id": "4b39ecea"
      },
      "outputs": [],
      "source": []
    },
    {
      "cell_type": "markdown",
      "id": "029b0175",
      "metadata": {
        "id": "029b0175"
      },
      "source": [
        "### Task - 6"
      ]
    },
    {
      "cell_type": "markdown",
      "id": "01e8361c",
      "metadata": {
        "id": "01e8361c"
      },
      "source": [
        "Solve the maze with the BFS algorithm, and visualize the solution in the maze. What is the length of the shortest path?"
      ]
    },
    {
      "cell_type": "code",
      "execution_count": null,
      "id": "eef0a76f",
      "metadata": {
        "id": "eef0a76f"
      },
      "outputs": [],
      "source": []
    },
    {
      "cell_type": "markdown",
      "id": "fe593589",
      "metadata": {
        "id": "fe593589"
      },
      "source": [
        "### Task - 7"
      ]
    },
    {
      "cell_type": "markdown",
      "id": "1c692e9b",
      "metadata": {
        "id": "1c692e9b"
      },
      "source": [
        "Choose 3 random START and GOAL states, and repeat the tasks 2 - 6, and visualize the solution for each. Use W=1 in this task. Explain your observations."
      ]
    },
    {
      "cell_type": "code",
      "execution_count": null,
      "id": "7b4c925b",
      "metadata": {
        "id": "7b4c925b"
      },
      "outputs": [],
      "source": []
    },
    {
      "cell_type": "markdown",
      "id": "1c99ac77",
      "metadata": {
        "id": "1c99ac77"
      },
      "source": [
        "### Task - 8"
      ]
    },
    {
      "cell_type": "markdown",
      "id": "cabf0458",
      "metadata": {
        "id": "cabf0458"
      },
      "source": [
        "The initally assumation which we made in the Find_the_edges() is the robot can only move in UP, DOWN, LEFT and RIGHT. Now it can move diagonally as well. Modifiy the function and repeat the tasks 1-6 (and visualize the solution for each). Use W=1 in this task (non need in **\"Chose a broad set of values for W to see the difference\"**). Explain your observations"
      ]
    },
    {
      "cell_type": "code",
      "execution_count": null,
      "id": "6ed4f96e",
      "metadata": {
        "id": "6ed4f96e"
      },
      "outputs": [],
      "source": []
    },
    {
      "cell_type": "markdown",
      "id": "e5bc4ecf",
      "metadata": {
        "id": "e5bc4ecf"
      },
      "source": [
        "### Bonus Task (10 pt): Solving \"Sliding Tile Puzzle\" with A*-Search\n",
        "the initial and the final configurations are given at the image below.\n",
        "you can use **the number of displaced tiles** as a heuristics function, $h_1$. Use W=1\n",
        "add you code and print the optimal action sequence (which tile to move) from the intial to the final configuration.\n",
        "![cmpe252_HW1_Bonus.png](attachment:cmpe252_HW1_Bonus.png)"
      ]
    },
    {
      "cell_type": "code",
      "execution_count": null,
      "id": "44184583",
      "metadata": {
        "id": "44184583"
      },
      "outputs": [],
      "source": []
    }
  ],
  "metadata": {
    "kernelspec": {
      "display_name": "Python 3 (ipykernel)",
      "language": "python",
      "name": "python3"
    },
    "language_info": {
      "codemirror_mode": {
        "name": "ipython",
        "version": 3
      },
      "file_extension": ".py",
      "mimetype": "text/x-python",
      "name": "python",
      "nbconvert_exporter": "python",
      "pygments_lexer": "ipython3",
      "version": "3.7.6"
    },
    "colab": {
      "provenance": [],
      "include_colab_link": true
    }
  },
  "nbformat": 4,
  "nbformat_minor": 5
}